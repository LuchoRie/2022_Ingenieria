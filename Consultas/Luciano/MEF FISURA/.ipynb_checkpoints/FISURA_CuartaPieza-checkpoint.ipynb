{
 "cells": [
  {
   "cell_type": "markdown",
   "id": "00a09531-a972-4808-baf5-e63180c7935a",
   "metadata": {},
   "source": [
    "$$ \\Large \\underline\n",
    "{\\textbf{Propagación de Fisuras}}\n",
    "$$"
   ]
  },
  {
   "cell_type": "markdown",
   "id": "08c8e9f2-a123-4bf6-917f-641cd2499ebe",
   "metadata": {},
   "source": [
    "Determine la deformación y los esfuerzos principales en función de la posición para una chapa con\n",
    "un agujero en el centro sujeta a tracción por sus extremos, como se muestra en la figura. Las\n",
    "dimensiones de la chapa son de $20\\ x\\ 10\\ pulgadas$ y su espesor de $1\\ pulgada$. El radio del agujero\n",
    "central es también de $1\\ pulgada$. Tome $E = 30 x 10^{6}\\\n",
    " psi$ y $n = 0.30$.\n"
   ]
  },
  {
   "cell_type": "markdown",
   "id": "a15f79c2-5b41-43ad-9717-760a523dae57",
   "metadata": {},
   "source": [
    "Analice el problema con número creciente de elementos y estudie su convergencia. "
   ]
  },
  {
   "cell_type": "markdown",
   "id": "b5e9928b-3931-4d63-b2e1-20776b4958ba",
   "metadata": {},
   "source": [
    "<center><img src=\"ImgProb02G03.png\"></center>"
   ]
  },
  {
   "cell_type": "code",
   "execution_count": 1,
   "id": "64e4ed2c-f652-4a64-9b37-c39ee00d7af1",
   "metadata": {
    "tags": []
   },
   "outputs": [],
   "source": [
    "import gmsh\n",
    "import numpy as np\n",
    "import matplotlib.pyplot as plt\n",
    "import MEF as mef"
   ]
  },
  {
   "cell_type": "code",
   "execution_count": 2,
   "id": "84a0dd3e-50ce-4c25-93d8-36aeebc6a46d",
   "metadata": {},
   "outputs": [],
   "source": [
    "lc = 2\n",
    "h = 10  # in\n",
    "b = 20  # in\n",
    "v = 0.3  # coef Poisson\n",
    "Ei = 30e6  # psi para acero \n",
    "r = 1  # in  radio del agujero\n",
    "t = 1  # in  espesor de la chapa\n",
    "T = 1000"
   ]
  },
  {
   "cell_type": "code",
   "execution_count": 3,
   "id": "ded25760-bdf2-46b8-a397-5954f634e5ca",
   "metadata": {},
   "outputs": [],
   "source": [
    "gmsh.initialize()"
   ]
  },
  {
   "cell_type": "code",
   "execution_count": 4,
   "id": "d0989b79-f0f7-4054-ad46-10cf3918cbe3",
   "metadata": {
    "tags": []
   },
   "outputs": [],
   "source": [
    "gmsh.model.add('Chapa_agujero_central')"
   ]
  },
  {
   "cell_type": "code",
   "execution_count": 5,
   "id": "f68e3304-8aa9-447d-9876-c18e03cae306",
   "metadata": {},
   "outputs": [],
   "source": [
    "pc = gmsh.model.geo.addPoint(0,0,0,lc)\n",
    "p1 = gmsh.model.geo.addPoint(r,0,0,lc/15)\n",
    "p2 = gmsh.model.geo.addPoint(b/2,0,0,lc)\n",
    "p3 = gmsh.model.geo.addPoint(b/2,h/2,0,lc)\n",
    "p4 = gmsh.model.geo.addPoint(0,h/2,0,lc)\n",
    "p5 = gmsh.model.geo.addPoint(0,r,0,lc/15)"
   ]
  },
  {
   "cell_type": "code",
   "execution_count": 6,
   "id": "e083d5c7-d9fe-4d57-b80b-c92bdce1cb9b",
   "metadata": {},
   "outputs": [],
   "source": [
    "l1 = gmsh.model.geo.addLine(p1,p2)\n",
    "l2 = gmsh.model.geo.addLine(p2,p3)\n",
    "l3 = gmsh.model.geo.addLine(p3,p4)\n",
    "l4 = gmsh.model.geo.addLine(p4,p5)\n",
    "c1 = gmsh.model.geo.addCircleArc(p5, pc, p1)"
   ]
  },
  {
   "cell_type": "code",
   "execution_count": 7,
   "id": "0d32761c-c28b-4fcf-9434-e1f0f976a68d",
   "metadata": {},
   "outputs": [],
   "source": [
    "C1 = gmsh.model.geo.addCurveLoop([l1,l2,l3,l4,c1])"
   ]
  },
  {
   "cell_type": "code",
   "execution_count": 8,
   "id": "10639981-281f-4d57-8653-b54e9ca9211e",
   "metadata": {},
   "outputs": [],
   "source": [
    "S1 = gmsh.model.geo.addPlaneSurface([C1])"
   ]
  },
  {
   "cell_type": "code",
   "execution_count": 9,
   "id": "12b001fc-3c5f-425a-a137-442f0ea0165d",
   "metadata": {},
   "outputs": [],
   "source": [
    "gmsh.model.geo.synchronize()"
   ]
  },
  {
   "cell_type": "markdown",
   "id": "136cd7cb-f4b3-42bf-9d00-76096cb5be72",
   "metadata": {},
   "source": [
    "La linea vertical de la izquierda no se movera en la dirección x por simetria, ya que se aplica la misma tension de ambos lados. "
   ]
  },
  {
   "cell_type": "markdown",
   "id": "92d28e09-1303-4108-bab9-ed33bd34b333",
   "metadata": {},
   "source": [
    "La linea horizontal de aba no se movera en la dirección y, también por simetria. "
   ]
  },
  {
   "cell_type": "code",
   "execution_count": 10,
   "id": "e3fec0f5-5c1f-4724-84ef-f701e434e611",
   "metadata": {},
   "outputs": [],
   "source": [
    "Empotrado_x = gmsh.model.addPhysicalGroup(1, [l4])\n",
    "gmsh.model.setPhysicalName(1,Empotrado_x,'Empotrado en x')\n",
    "Empotrado_y = gmsh.model.addPhysicalGroup(1, [l1])\n",
    "gmsh.model.setPhysicalName(1,Empotrado_y,'Empotrado en y')\n",
    "\n",
    "Traccionado = gmsh.model.addPhysicalGroup(1,[l2])\n",
    "gmsh.model.setPhysicalName(1,Traccionado,'Traccionado')\n",
    "\n",
    "Superficie = gmsh.model.addPhysicalGroup(2,[S1])\n",
    "gmsh.model.setPhysicalName(2,Superficie,'Superficie')"
   ]
  },
  {
   "cell_type": "code",
   "execution_count": 11,
   "id": "a7284445-39f9-4271-8e3a-4c92e75d2a9b",
   "metadata": {},
   "outputs": [],
   "source": [
    "gmsh.model.mesh.generate(2)\n",
    "gmsh.model.geo.synchronize()\n",
    "gmsh.fltk.run()"
   ]
  },
  {
   "cell_type": "code",
   "execution_count": 12,
   "id": "f757a326-7cf1-425f-a399-d49467b7107c",
   "metadata": {},
   "outputs": [],
   "source": [
    "NodeInfo = gmsh.model.mesh.get_nodes()\n",
    "Nn = NodeInfo[0].shape[0]\n",
    "ETAGS, ELEMENTS = gmsh.model.mesh.get_elements_by_type(2)   # ETAGS = numeracion de cada elemento\n",
    "                                                            # ELEMENTS = ravel de los nodos que posee cada elemento\n",
    "MN = NodeInfo[1].reshape(Nn,3)  # matriz coordenadas de los nodos\n",
    "MN = np.append(MN[1:,:],[np.zeros(3)],0)  # llevo la primer fila al final porque nombra al nodo del centro como el último taggeado\n",
    "MC = ELEMENTS.reshape(ETAGS.shape[0],3)  # matriz conectividad"
   ]
  },
  {
   "cell_type": "code",
   "execution_count": 13,
   "id": "26b5d500-2a9f-4d81-bdbf-d0fa5a966c32",
   "metadata": {},
   "outputs": [],
   "source": [
    "Ne, Nnxe = MC.shape"
   ]
  },
  {
   "cell_type": "code",
   "execution_count": 14,
   "id": "8776d43c-39be-42ca-be61-211abddccb71",
   "metadata": {},
   "outputs": [],
   "source": [
    "E = np.zeros(Ne)\n",
    "for e in range(Ne):\n",
    "    E[e] = Ei"
   ]
  },
  {
   "cell_type": "code",
   "execution_count": 15,
   "id": "799d822a-cfb2-4c4b-a6d9-0f968b5da6fe",
   "metadata": {},
   "outputs": [],
   "source": [
    "MC = MC - np.ones([Ne,Nnxe])  # resto 1 para acomodar a lenguaje python"
   ]
  },
  {
   "cell_type": "code",
   "execution_count": 16,
   "id": "97ca6df5-a9a6-4821-9052-72810e25d433",
   "metadata": {},
   "outputs": [],
   "source": [
    "gmsh.option.setNumber(\"Mesh.MshFileVersion\",2.2)\n",
    "gmsh.write('chapa_agujero.msh')"
   ]
  },
  {
   "cell_type": "code",
   "execution_count": 17,
   "id": "eccbebc9-5520-468b-9308-9dd3177932ec",
   "metadata": {},
   "outputs": [],
   "source": [
    "glxn = 2\n",
    "dimension_elementos = 2"
   ]
  },
  {
   "cell_type": "code",
   "execution_count": 18,
   "id": "7468ee80-9877-4f77-a82a-dcb8a111a3c6",
   "metadata": {},
   "outputs": [],
   "source": [
    "K, Ke, D, B = mef.Kglobal_barra(MN, MC, E, glxn, dimension_elementos, v,t) "
   ]
  },
  {
   "cell_type": "code",
   "execution_count": 19,
   "id": "f4116923-b935-4c15-86c3-2af718460ee3",
   "metadata": {},
   "outputs": [],
   "source": [
    "nodos_empot_x, xyz_empot_x = gmsh.model.mesh.getNodesForPhysicalGroup(1, Empotrado_x)\n",
    "nodos_empot_y, xyz_empot_y = gmsh.model.mesh.getNodesForPhysicalGroup(1, Empotrado_y)"
   ]
  },
  {
   "cell_type": "markdown",
   "id": "24af802f-9eaf-4b63-84b1-04f83111aa0c",
   "metadata": {},
   "source": [
    "nodos_empot_x = el número del nodo que se encuentra empotrado en x ; xyz_empot_x = ravel de las coordenadas de cada nodo empotrado en x"
   ]
  },
  {
   "cell_type": "markdown",
   "id": "e833ce94-becc-47eb-b00f-44849d51bcc3",
   "metadata": {},
   "source": [
    "nodos_empot_y = el número del nodo que se encuentra empotrado en y ; xyz_empot_y = ravel de las coordenadas de cada nodo empotrado en y"
   ]
  },
  {
   "cell_type": "code",
   "execution_count": 20,
   "id": "359116de-8ae6-4bc7-bd17-f49ab0f4453b",
   "metadata": {},
   "outputs": [],
   "source": [
    "s = []  # el vector s indica la direccion de que nodo sabemos cuanto se desplaza.\n",
    "        # en este caso se asignan los valores de las direcciones de cada nodo empotrado\n",
    "for n in nodos_empot_x-1:\n",
    "    s.append(glxn*n)\n",
    "for n in nodos_empot_y-1:\n",
    "    s.append(glxn*n+1)\n",
    "\n",
    "s.append((NodeInfo[0][0]-1)*glxn)\n",
    "s.append((NodeInfo[0][0]-1)*glxn+1)\n",
    "\n",
    "s = np.array(s).astype(int)\n",
    "\n",
    "Us = np.zeros([s.shape[0]]).reshape([-1,1])"
   ]
  },
  {
   "cell_type": "code",
   "execution_count": 21,
   "id": "ac20d8c5-8a95-43cb-ad09-8f939d27f582",
   "metadata": {},
   "outputs": [],
   "source": [
    "r = mef.vector_complemento(s, MN, glxn).astype(int)"
   ]
  },
  {
   "cell_type": "code",
   "execution_count": 22,
   "id": "1fea51ac-cb23-4f51-8457-c1ba0da89b8c",
   "metadata": {},
   "outputs": [],
   "source": [
    "entityTraccionada = gmsh.model.getEntitiesForPhysicalGroup(1, Traccionado)\n",
    "Tgroup, Ttraccionada, Ltraccionada = gmsh.model.mesh.getElements(1, entityTraccionada[0])\n",
    "Nlineastraccionadas = len(Ttraccionada[0])\n",
    "MCtraccionadas = Ltraccionada[0].reshape(Nlineastraccionadas,2)-1"
   ]
  },
  {
   "cell_type": "code",
   "execution_count": 23,
   "id": "69781afe-8b74-405e-ad26-ac4cf554909f",
   "metadata": {},
   "outputs": [],
   "source": [
    "Fr = np.zeros_like(r)  # Vector fuerzas en los nodos que empotrados\n",
    "for e in range(Nlineastraccionadas):\n",
    "    nodo1 = MCtraccionadas[e,0].astype(int)\n",
    "    nodo2 = MCtraccionadas[e,1].astype(int)\n",
    "    Ltraccionado = abs(MN[nodo2,1]-MN[nodo1,1])  # Longitud de la linea traccionada [e] que se esta analizando\n",
    "    Fr[np.where(r == nodo1*2)[0][0]] += T*Ltraccionado*t/2  # Se distribuye la tensión aplicada según la longitud del elemento\n",
    "    Fr[np.where(r == nodo2*2)[0][0]] += T*Ltraccionado*t/2\n",
    "Fr = Fr.reshape([-1,1])"
   ]
  },
  {
   "cell_type": "code",
   "execution_count": 24,
   "id": "12eaee1b-6e7b-41e4-8223-e9689597909f",
   "metadata": {},
   "outputs": [],
   "source": [
    "F, U = mef.solve(K, r, s, Us, Fr)"
   ]
  },
  {
   "cell_type": "code",
   "execution_count": 25,
   "id": "46450cb7-4b58-41af-a9cc-20eb697384d6",
   "metadata": {},
   "outputs": [],
   "source": [
    "sig = mef.tensiones(MC, U, D, B, glxn)\n",
    "sig_xytau = np.hstack(list(sig.values()))"
   ]
  },
  {
   "cell_type": "code",
   "execution_count": 26,
   "id": "de92e36b-2943-4a79-9773-8a957ce6bb5f",
   "metadata": {},
   "outputs": [],
   "source": [
    "U2D = U.reshape(Nn,glxn)\n",
    "U3D = np.append(U2D,np.zeros(U2D.shape[0]).reshape([-1,1]),1)"
   ]
  },
  {
   "cell_type": "code",
   "execution_count": 27,
   "id": "4a4fa157-8011-4cc1-80fb-63995aa17ea8",
   "metadata": {},
   "outputs": [],
   "source": [
    "MNdef = MN + U3D*1e2  # se exagera la deformación "
   ]
  },
  {
   "cell_type": "code",
   "execution_count": 28,
   "id": "bc35bf96-2511-4751-8e3a-03802f219009",
   "metadata": {},
   "outputs": [
    {
     "data": {
      "text/plain": [
       "Text(0.5, 0, 'desplazamiento en x')"
      ]
     },
     "execution_count": 28,
     "metadata": {},
     "output_type": "execute_result"
    },
    {
     "data": {
      "image/png": "[encoded data removed]",
      "text/plain": [
       "<Figure size 720x288 with 1 Axes>"
      ]
     },
     "metadata": {
      "needs_background": "light"
     },
     "output_type": "display_data"
    }
   ],
   "source": [
    "fig, ax = plt.subplots(figsize=(10,4))\n",
    "plt.triplot(MN[:,0], MN[:,1], MC, label='orig')  # triplot = grafica triangulitos\n",
    "plt.triplot(MNdef[:,0], MNdef[:,1], MC, label='def')\n",
    "plt.legend()\n",
    "plt.ylabel('desplazamiento en y')\n",
    "plt.xlabel('desplazamiento en x')"
   ]
  },
  {
   "cell_type": "markdown",
   "id": "b87de5ec-2bcc-47bf-870a-58ca2c5aef66",
   "metadata": {},
   "source": [
    "$$\n",
    "$$"
   ]
  },
  {
   "cell_type": "markdown",
   "id": "6ffcae32-ef55-4a68-9743-1d44e57e40d3",
   "metadata": {},
   "source": [
    "$$ \\Large\n",
    "\\textbf{Se muestran los resultados obtenidos:}\n",
    "$$"
   ]
  },
  {
   "cell_type": "markdown",
   "id": "4be4a2ca-a8f3-4cc1-bec8-caca70ca1608",
   "metadata": {},
   "source": [
    "<center><img src=\"ImgProb02_desplazamientos.png\"></center>"
   ]
  },
  {
   "cell_type": "markdown",
   "id": "5fb473f5-e738-4d75-983e-d569715766e8",
   "metadata": {},
   "source": [
    "<center><img src=\"ImgProb02_tensionesenx.png\"></center>"
   ]
  },
  {
   "cell_type": "markdown",
   "id": "88d7e336-43dc-44ce-9885-d121c549ebc6",
   "metadata": {},
   "source": [
    "<center><img src=\"ImgProb02_tensioneseny.png\"></center>"
   ]
  },
  {
   "cell_type": "markdown",
   "id": "989be200-6b29-4cb4-a252-f66cb9e5f9b4",
   "metadata": {},
   "source": [
    "Se observa que la mayor concentración de tensiones ocurre en la parte superior del agujero y por simetria también ocurrirá en la parte inferior."
   ]
  },
  {
   "cell_type": "markdown",
   "id": "2fc105fe-16a9-442a-9b78-ae3163a2d6ae",
   "metadata": {},
   "source": [
    "Primero debo ubicar en que elementos hay mayor concentración de tensiones. Las tensiones en la dirección x son 1 orden de magnitud alcanzan máximos del doble de magnitud en comparacion a las tensiones en y. Por eso, analizaré los elementos con mayor concentración de tensiones en x."
   ]
  },
  {
   "cell_type": "markdown",
   "id": "6df2ec0f-fd84-4026-a685-3f3792d9d911",
   "metadata": {},
   "source": [
    "<center><img src=\"ETAGS_Imagen.png\"></center>"
   ]
  },
  {
   "cell_type": "markdown",
   "id": "85314e35-ab7c-46e9-ae62-4f3b6908d935",
   "metadata": {},
   "source": [
    "<center><img src=\"TensionesPorElementoColores.png\"></center>"
   ]
  },
  {
   "cell_type": "markdown",
   "id": "fe95a391-6166-47ed-b94a-361040eb5a0f",
   "metadata": {},
   "source": [
    "$$\n",
    "$$"
   ]
  },
  {
   "cell_type": "markdown",
   "id": "248ae9a3-3a93-47f3-a608-8848083a8598",
   "metadata": {},
   "source": [
    "$ \\Large \\underline\n",
    "{\\text{Estudio de propagación de fisuras}}\n",
    "$"
   ]
  },
  {
   "cell_type": "markdown",
   "id": "867751ae-b89b-47b8-b4a4-e1ab07e51618",
   "metadata": {},
   "source": [
    "Para solucionar un problea no lineal mediante el método de elos elementos finitos, es necesario hacer una $\\textbf{discretización temporal}$. Esto es, el problema se evalúa en $N$ pasos de tiempo discretos, de forma $\\large t_{0},...,t_{i},t_{i+1},...,t_{N}$. "
   ]
  },
  {
   "cell_type": "code",
   "execution_count": 29,
   "id": "b7c4ad4c-e776-43d5-8cd0-d23dd215d950",
   "metadata": {},
   "outputs": [],
   "source": [
    "MCbroken = MC\n",
    "ETAGSbroken = ETAGS\n",
    "ElementosRotos = 2"
   ]
  },
  {
   "cell_type": "code",
   "execution_count": 37,
   "id": "38a99c10-9862-4ffe-8eec-2b7cd6f22a98",
   "metadata": {},
   "outputs": [],
   "source": [
    "for elrot in range(ElementosRotos):\n",
    "    sig_xytau[0,:].max()\n",
    "    max_sig_element = np.where(sig_xytau[0,:] == sig_xytau[0,:].max())\n",
    "    MCbroken = np.delete(MCbroken, max_sig_element, axis=0)\n",
    "    ETAGSbroken = np.delete(ETAGSbroken, max_sig_element, axis=0)\n",
    "    Ne, Nnxe = MCbroken.shape\n",
    "    E = np.zeros(Ne)\n",
    "    for e in range(Ne):\n",
    "        E[e] = Ei\n",
    "    K, Ke, D, B = mef.Kglobal_barra(MN, MCbroken, E, glxn, dimension_elementos, v,t)\n",
    "    F, U = mef.solve(K, r, s, Us, Fr)\n",
    "    sig = mef.tensiones(MCbroken, U, D, B, glxn)\n",
    "    sig_xytau = np.hstack(list(sig.values()))  # saco las tensiones del diccionario, quedan en filas para cada elemento las tensiones x, y, xy\n",
    "    U2D = U.reshape(Nn,glxn)\n",
    "    U3D = np.append(U2D,np.zeros(U2D.shape[0]).reshape([-1,1]),1)"
   ]
  },
  {
   "cell_type": "code",
   "execution_count": 38,
   "id": "40ffa9b4-4fc1-4116-b2ee-4237e873eb85",
   "metadata": {},
   "outputs": [],
   "source": [
    "desps = gmsh.view.add(\"Desplazamientos\")\n",
    "Desps = gmsh.view.addModelData(desps, 0, 'Chapa_agujero_central', 'NodeData', NodeInfo[0]+1, U3D, numComponents=3)\n",
    "gmsh.option.setNumber(f'View[{desps}].VectorType',5)\n",
    "\n",
    "F2D = F.reshape(Nn,glxn)\n",
    "F3D = np.append(F2D,np.zeros(F2D.shape[0]).reshape([-1,1]),1)\n",
    "\n",
    "fuerzas = gmsh.view.add('Fuerzas')\n",
    "Fuerzas = gmsh.view.addModelData(fuerzas, 0, 'Chapa_agujero_central','NodeData',NodeInfo[0]+1, F3D, numComponents=3)\n",
    "gmsh.option.setNumber(f'View[{fuerzas}].VectorType',4)\n",
    "gmsh.option.setNumber(f'View[{fuerzas}].GlyphLocation',2)\n",
    "\n",
    "sigx = gmsh.view.add('Tensiones en x')\n",
    "sigy = gmsh.view.add('Tensiones en y')\n",
    "sigxy = gmsh.view.add('Tensiones xy')\n",
    "SIGX = gmsh.view.addModelData(sigx, 0, 'Chapa_agujero_central', 'ElementData', ETAGSbroken, sig_xytau[0,:].reshape([-1,1]), numComponents=1) # hago reshape porque tienen que ir vectores columnas\n",
    "SIGY = gmsh.view.addModelData(sigy, 0, 'Chapa_agujero_central', 'ElementData', ETAGSbroken, sig_xytau[1,:].reshape([-1,1]), numComponents=1)\n",
    "\n",
    "gmsh.fltk.run()"
   ]
  },
  {
   "cell_type": "code",
   "execution_count": 39,
   "id": "09903de7-c534-4a60-8efc-75abb41cec8e",
   "metadata": {},
   "outputs": [
    {
     "name": "stdout",
     "output_type": "stream",
     "text": [
      "Pos. py de la máxima tensión en el vector tensiones x:  (array([78], dtype=int64),)\n",
      "Elemento con máxima tensión: [104]\n",
      "Posición en MC: (array([78], dtype=int64),)\n"
     ]
    }
   ],
   "source": [
    "sig_xytau[0,:].max()\n",
    "max_sig_element = np.where(sig_xytau[0,:] == sig_xytau[0,:].max())\n",
    "print('Pos. py de la máxima tensión en el vector tensiones x: ', max_sig_element)\n",
    "print('Elemento con máxima tensión:', ETAGS[max_sig_element])\n",
    "print('Posición en MC:', max_sig_element)  # nro del elemento con la máx tensión aplicada\n",
    "\n",
    "nodos_el= MCbroken[max_sig_element]  # nodos del elemento a eliminar si estan empotrados \n",
    "\n",
    "MCbroken = np.delete(MCbroken, max_sig_element, axis=0)\n",
    "ETAGSbroken = np.delete(ETAGSbroken, max_sig_element, axis=0)"
   ]
  },
  {
   "cell_type": "code",
   "execution_count": 40,
   "id": "2f976d65-92e7-4bc7-87fa-1aa0df41eba7",
   "metadata": {},
   "outputs": [
    {
     "data": {
      "text/plain": [
       "array([[ 30.,   4., 111.]])"
      ]
     },
     "execution_count": 40,
     "metadata": {},
     "output_type": "execute_result"
    }
   ],
   "source": [
    "nodos_el"
   ]
  },
  {
   "cell_type": "code",
   "execution_count": 43,
   "id": "443d13e0-39ad-460f-89fa-e0215d270f2b",
   "metadata": {},
   "outputs": [],
   "source": [
    "MNbroken = MN"
   ]
  },
  {
   "cell_type": "code",
   "execution_count": 45,
   "id": "0e175eed-2da2-40d8-af0a-d2623a72a1a0",
   "metadata": {},
   "outputs": [],
   "source": [
    "for n in range(3):\n",
    "    if MN[nodos_el[0][n].astype(int)][0] == 0:\n",
    "        pos = 0\n",
    "        i = 0\n",
    "        while i == 0:\n",
    "            if MNbroken[pos].tolist()==MN[nodos_el[0][n].astype(int)].tolist():\n",
    "                i = 1\n",
    "            pos += 1\n",
    "        pos -= 1\n",
    "        MNbroken = np.delete(MNbroken,pos,axis=0)\n",
    "        s = np.delete(s,np.where(s==nodos_el[0][n].astype(int)*2))"
   ]
  },
  {
   "cell_type": "code",
   "execution_count": 48,
   "id": "008a97d8-1f16-4440-89d5-523d2c8197e1",
   "metadata": {},
   "outputs": [],
   "source": [
    "Nn = MNbroken.shape[0]"
   ]
  },
  {
   "cell_type": "code",
   "execution_count": 49,
   "id": "ef8e39ae-6d9a-45e5-be69-af1f29880971",
   "metadata": {},
   "outputs": [],
   "source": [
    "Us = np.zeros([s.shape[0]]).reshape([-1,1])\n",
    "r = mef.vector_complemento(s, MNbroken, glxn).astype(int)\n",
    "Fr = np.zeros_like(r)  # Vector fuerzas en los nodos que empotrados\n",
    "for e in range(Nlineastraccionadas):\n",
    "    nodo1 = MCtraccionadas[e,0].astype(int)\n",
    "    nodo2 = MCtraccionadas[e,1].astype(int)\n",
    "    Ltraccionado = abs(MN[nodo2,1]-MN[nodo1,1])  # Longitud de la linea traccionada [e] que se esta analizando\n",
    "    Fr[np.where(r == nodo1*2)[0][0]] += T*Ltraccionado*t/2  # Se distribuye la tensión aplicada según la longitud del elemento\n",
    "    Fr[np.where(r == nodo2*2)[0][0]] += T*Ltraccionado*t/2\n",
    "Fr = Fr.reshape([-1,1])"
   ]
  },
  {
   "cell_type": "raw",
   "id": "272c1e40-fa47-41f9-a23c-d47c351bf221",
   "metadata": {},
   "source": [
    "desps = gmsh.view.add(\"Desplazamientos\")\n",
    "Desps = gmsh.view.addModelData(desps, 0, 'Chapa_agujero_central', 'NodeData', NodeInfo[0]+1, U3D, numComponents=3)\n",
    "gmsh.option.setNumber(f'View[{desps}].VectorType',5)\n",
    "\n",
    "F2D = F.reshape(Nn,glxn)\n",
    "F3D = np.append(F2D,np.zeros(F2D.shape[0]).reshape([-1,1]),1)\n",
    "\n",
    "fuerzas = gmsh.view.add('Fuerzas')\n",
    "Fuerzas = gmsh.view.addModelData(fuerzas, 0, 'Chapa_agujero_central','NodeData',NodeInfo[0]+1, F3D, numComponents=3)\n",
    "gmsh.option.setNumber(f'View[{fuerzas}].VectorType',4)\n",
    "gmsh.option.setNumber(f'View[{fuerzas}].GlyphLocation',2)\n",
    "\n",
    "sigx = gmsh.view.add('Tensiones en x')\n",
    "sigy = gmsh.view.add('Tensiones en y')\n",
    "sigxy = gmsh.view.add('Tensiones xy')\n",
    "SIGX = gmsh.view.addModelData(sigx, 0, 'Chapa_agujero_central', 'ElementData', ETAGSbroken, sig_xytau[0,:].reshape([-1,1]), numComponents=1) # hago reshape porque tienen que ir vectores columnas\n",
    "SIGY = gmsh.view.addModelData(sigy, 0, 'Chapa_agujero_central', 'ElementData', ETAGSbroken, sig_xytau[1,:].reshape([-1,1]), numComponents=1)\n",
    "\n",
    "gmsh.fltk.run()"
   ]
  },
  {
   "cell_type": "code",
   "execution_count": null,
   "id": "8f5edbe1-7573-40b7-a309-abee8c2595e8",
   "metadata": {},
   "outputs": [],
   "source": []
  }
 ],
 "metadata": {
  "kernelspec": {
   "display_name": "Python 3 (ipykernel)",
   "language": "python",
   "name": "python3"
  },
  "language_info": {
   "codemirror_mode": {
    "name": "ipython",
    "version": 3
   },
   "file_extension": ".py",
   "mimetype": "text/x-python",
   "name": "python",
   "nbconvert_exporter": "python",
   "pygments_lexer": "ipython3",
   "version": "3.9.10"
  }
 },
 "nbformat": 4,
 "nbformat_minor": 5
}
