{
 "cells": [
  {
   "cell_type": "markdown",
   "id": "14e7192a-0a5d-464c-844b-0ce371c2fbbd",
   "metadata": {},
   "source": [
    "<center><img src=\"ImgProb02G03.png\"></center>"
   ]
  },
  {
   "cell_type": "code",
   "execution_count": 1,
   "id": "1ade8e97-1065-4bb7-ba35-2fe2a683f588",
   "metadata": {
    "tags": []
   },
   "outputs": [],
   "source": [
    "import gmsh\n",
    "import numpy as np\n",
    "import matplotlib.pyplot as plt\n",
    "import MEF as mef"
   ]
  },
  {
   "cell_type": "code",
   "execution_count": 2,
   "id": "79121a84-930a-4ad2-bfe3-f1bcdcafbf08",
   "metadata": {},
   "outputs": [],
   "source": [
    "lc = 0.02\n",
    "h = 0.3  # m\n",
    "b = 0.6  # m\n",
    "v = 0.3  # coef Poisson\n",
    "Ei = 206e9  # Pa \n",
    "r = 0.03  # m  radio del agujero\n",
    "t = 0.03  # m  espesor de la chapa\n",
    "T = 10e6  # Pa"
   ]
  },
  {
   "cell_type": "code",
   "execution_count": 3,
   "id": "02485ed3-8fb4-4ba6-a5dd-a2c4a7f3be70",
   "metadata": {},
   "outputs": [],
   "source": [
    "gmsh.initialize()\n",
    "gmsh.model.add('Chapa_agujero_central')"
   ]
  },
  {
   "cell_type": "code",
   "execution_count": 4,
   "id": "77f16208-70b5-4982-9199-d70d1d83cfb1",
   "metadata": {
    "tags": []
   },
   "outputs": [],
   "source": [
    "pc = gmsh.model.geo.addPoint(b/2,0,0,lc)\n",
    "p1 = gmsh.model.geo.addPoint(0,0,0,lc)\n",
    "p2 = gmsh.model.geo.addPoint(b/2-r,0,0,lc/5)\n",
    "p3 = gmsh.model.geo.addPoint(b/2,r,0,lc/50)\n",
    "p4 = gmsh.model.geo.addPoint(b/2+r,0,0,lc/5)\n",
    "p5 = gmsh.model.geo.addPoint(b,0,0,lc)\n",
    "p6 = gmsh.model.geo.addPoint(b,h/2,0,lc)\n",
    "p7 = gmsh.model.geo.addPoint(b/2,h/2,0,lc/10)\n",
    "p8 = gmsh.model.geo.addPoint(0,h/2,0,lc)\n",
    "\n",
    "l1 = gmsh.model.geo.addLine(p1,p2)\n",
    "l2 = gmsh.model.geo.addLine(p4,p5)\n",
    "l3 = gmsh.model.geo.addLine(p5,p6)  # traccionada\n",
    "l4 = gmsh.model.geo.addLine(p6,p7)\n",
    "l5 = gmsh.model.geo.addLine(p7,p8)\n",
    "l6 = gmsh.model.geo.addLine(p8,p1)  # traccionada\n",
    "c1 = gmsh.model.geo.addCircleArc(p2, pc, p3)\n",
    "c2 = gmsh.model.geo.addCircleArc(p3, pc, p4)\n",
    "\n",
    "C1 = gmsh.model.geo.addCurveLoop([l1,l2,l3,l4,l5,l6,c1,c2])\n",
    "\n",
    "S1 = gmsh.model.geo.addPlaneSurface([C1])\n",
    "\n",
    "gmsh.model.geo.synchronize()\n",
    "\n",
    "Traccionado_pos = gmsh.model.addPhysicalGroup(1,[l3])\n",
    "gmsh.model.setPhysicalName(1,Traccionado_pos,'Traccionado_pos')\n",
    "Traccionado_neg = gmsh.model.addPhysicalGroup(1,[l6])\n",
    "gmsh.model.setPhysicalName(1,Traccionado_neg,'Traccionado_neg')\n",
    "Empotrado_y = gmsh.model.addPhysicalGroup(1, [l1,l2])\n",
    "gmsh.model.setPhysicalName(1,Empotrado_y,'Empotrado en y')\n",
    "Superficie = gmsh.model.addPhysicalGroup(2,[S1])\n",
    "gmsh.model.setPhysicalName(2,Superficie,'Superficie')\n",
    "\n",
    "gmsh.model.mesh.generate(2)\n",
    "gmsh.model.geo.synchronize()\n",
    "gmsh.fltk.run()"
   ]
  },
  {
   "cell_type": "code",
   "execution_count": 5,
   "id": "60e823f3-2b89-4563-8221-fa4b2b8d8aff",
   "metadata": {},
   "outputs": [],
   "source": [
    "NodeInfo = gmsh.model.mesh.get_nodes()\n",
    "Nn = NodeInfo[0].shape[0]\n",
    "ETAGS, ELEMENTS = gmsh.model.mesh.get_elements_by_type(2)   # ETAGS = numeracion de cada elemento\n",
    "                                                            # ELEMENTS = ravel de los nodos que posee cada elemento\n",
    "MN = NodeInfo[1].reshape(Nn,3)  # matriz coordenadas de los nodos\n",
    "MN = np.append(MN[1:,:],[MN[0,:]],0)  # llevo la primer fila al final porque nombra al nodo del centro como el último taggeado\n",
    "MC = ELEMENTS.reshape(ETAGS.shape[0],3)  # matriz conectividad\n",
    "Ne, Nnxe = MC.shape\n",
    "MC = MC - np.ones([Ne,Nnxe])  # resto 1 para acomodar a lenguaje python\n",
    "\n",
    "E = np.zeros(Ne)\n",
    "for e in range(Ne):\n",
    "    E[e] = Ei\n",
    "    \n",
    "glxn = 2\n",
    "dimension_elementos = 2\n",
    "\n",
    "gmsh.option.setNumber(\"Mesh.MshFileVersion\",2.2)\n",
    "gmsh.write('chapa_agujero.msh')"
   ]
  },
  {
   "cell_type": "code",
   "execution_count": 6,
   "id": "ee658ab8-bd93-4130-93f4-c1097e7efcdc",
   "metadata": {},
   "outputs": [],
   "source": [
    "nodos_empot_y, xyz_empot_y = gmsh.model.mesh.getNodesForPhysicalGroup(1, Empotrado_y)"
   ]
  },
  {
   "cell_type": "code",
   "execution_count": 7,
   "id": "a30df3eb-42d1-477e-a018-1df62a8f418c",
   "metadata": {},
   "outputs": [],
   "source": [
    "s = []  # el vector s indica la direccion de que nodo sabemos cuanto se desplaza.\n",
    "        # en este caso se asignan los valores de las direcciones de cada nodo empotrado\n",
    "for n in nodos_empot_y-1:\n",
    "    s.append(glxn*n+1)\n",
    "\n",
    "s.append((NodeInfo[0][0]-1)*glxn)\n",
    "s.append((NodeInfo[0][0]-1)*glxn+1)\n",
    "\n",
    "s = np.array(s).astype(int)\n",
    "\n",
    "Us = np.zeros([s.shape[0]]).reshape([-1,1])\n",
    "\n",
    "r = mef.vector_complemento(s, MN, glxn).astype(int)"
   ]
  },
  {
   "cell_type": "code",
   "execution_count": 8,
   "id": "436f4fa4-8117-45c3-b78a-97f1ee6c95de",
   "metadata": {},
   "outputs": [],
   "source": [
    "entityTraccionada_pos = gmsh.model.getEntitiesForPhysicalGroup(1, Traccionado_pos)\n",
    "Tgroup_pos, Ttraccionada_pos, Ltraccionada_pos = gmsh.model.mesh.getElements(1, entityTraccionada_pos[0])\n",
    "Nlineastraccionadas_pos = len(Ttraccionada_pos[0])\n",
    "MCtraccionadas_pos = Ltraccionada_pos[0].reshape(Nlineastraccionadas_pos,2)-1\n",
    "\n",
    "entityTraccionada_neg = gmsh.model.getEntitiesForPhysicalGroup(1, Traccionado_neg)\n",
    "Tgroup_neg, Ttraccionada_neg, Ltraccionada_neg = gmsh.model.mesh.getElements(1, entityTraccionada_neg[0])\n",
    "Nlineastraccionadas_neg = len(Ttraccionada_neg[0])\n",
    "MCtraccionadas_neg = Ltraccionada_neg[0].reshape(Nlineastraccionadas_neg,2)-1\n",
    "\n",
    "Fr = np.zeros_like(r)  # Vector fuerzas en los nodos que empotrados\n",
    "for e in range(Nlineastraccionadas_pos):\n",
    "    nodo1 = MCtraccionadas_pos[e,0].astype(int)\n",
    "    nodo2 = MCtraccionadas_pos[e,1].astype(int)\n",
    "    Ltraccionado = abs(MN[nodo2,1]-MN[nodo1,1])  # Longitud de la linea traccionada [e] que se esta analizando\n",
    "    Fr[np.where(r == nodo1*2)[0][0]] += T*Ltraccionado*t/2  # Se distribuye la tensión aplicada según la longitud del elemento\n",
    "    Fr[np.where(r == nodo2*2)[0][0]] += T*Ltraccionado*t/2\n",
    "for e in range(Nlineastraccionadas_neg):\n",
    "    nodo1 = MCtraccionadas_neg[e,0].astype(int)\n",
    "    nodo2 = MCtraccionadas_neg[e,1].astype(int)\n",
    "    Ltraccionado = abs(MN[nodo2,1]-MN[nodo1,1])  # Longitud de la linea traccionada [e] que se esta analizando\n",
    "    Fr[np.where(r == nodo1*2)[0][0]] += -T*Ltraccionado*t/2  # Se distribuye la tensión aplicada según la longitud del elemento\n",
    "    Fr[np.where(r == nodo2*2)[0][0]] += -T*Ltraccionado*t/2\n",
    "Fr = Fr.reshape([-1,1])"
   ]
  },
  {
   "cell_type": "code",
   "execution_count": 9,
   "id": "0cac39ad-70a4-4aca-a6b4-f2808e7039c5",
   "metadata": {},
   "outputs": [],
   "source": [
    "K, Ke, D, B = mef.Kglobal_barra(MN, MC, E, glxn, dimension_elementos, v,t) \n",
    "\n",
    "F, U = mef.solve(K, r, s, Us, Fr)\n",
    "\n",
    "sig = mef.tensiones(MC, U, D, B, glxn)\n",
    "sig_xytau = np.hstack(list(sig.values()))"
   ]
  },
  {
   "cell_type": "code",
   "execution_count": 10,
   "id": "ffd0f696-5249-4b66-b346-9dae3786a359",
   "metadata": {},
   "outputs": [],
   "source": [
    "U2D = U.reshape(Nn,glxn)\n",
    "U3D = np.append(U2D,np.zeros(U2D.shape[0]).reshape([-1,1]),1)"
   ]
  },
  {
   "cell_type": "code",
   "execution_count": 11,
   "id": "11210cde-9921-4582-bd58-7e7a59887443",
   "metadata": {},
   "outputs": [],
   "source": [
    "desps = gmsh.view.add(\"Desplazamientos\")\n",
    "Desps = gmsh.view.addModelData(desps, 0, 'Chapa_agujero_central', 'NodeData', NodeInfo[0]+1, U3D, numComponents=3)\n",
    "gmsh.option.setNumber(f'View[{desps}].VectorType',5)\n",
    "\n",
    "F2D = F.reshape(Nn,glxn)\n",
    "F3D = np.append(F2D,np.zeros(F2D.shape[0]).reshape([-1,1]),1)\n",
    "\n",
    "fuerzas = gmsh.view.add('Fuerzas')\n",
    "Fuerzas = gmsh.view.addModelData(fuerzas, 0, 'Chapa_agujero_central','NodeData',NodeInfo[0]+1, F3D, numComponents=3)\n",
    "gmsh.option.setNumber(f'View[{fuerzas}].VectorType',4)\n",
    "gmsh.option.setNumber(f'View[{fuerzas}].GlyphLocation',2)\n",
    "\n",
    "sigx = gmsh.view.add('Tensiones en x')\n",
    "sigy = gmsh.view.add('Tensiones en y')\n",
    "sigxy = gmsh.view.add('Tensiones xy')\n",
    "SIGX = gmsh.view.addModelData(sigx, 0, 'Chapa_agujero_central', 'ElementData', ETAGS, sig_xytau[0,:].reshape([-1,1]), numComponents=1)  # hago reshape porque tienen que ir vectores columnas\n",
    "SIGY = gmsh.view.addModelData(sigy, 0, 'Chapa_agujero_central', 'ElementData', ETAGS, sig_xytau[1,:].reshape([-1,1]), numComponents=1)\n",
    "\n",
    "gmsh.fltk.run()"
   ]
  },
  {
   "cell_type": "markdown",
   "id": "2fe87dd6-3594-4852-8b8e-9be95fff2ef2",
   "metadata": {},
   "source": [
    "<center><img src=\"FF_sin_fisura.png\"></center>"
   ]
  },
  {
   "cell_type": "markdown",
   "id": "4657bf17-f263-4e91-bfbb-4dd9ec4ec892",
   "metadata": {},
   "source": [
    "$ \n",
    "\\text{Para medir la longitud de la fisura (aproximada): Se tienen en cuenta las coordenadas del primer elemento eliminado y del último.}\n",
    "$"
   ]
  },
  {
   "cell_type": "markdown",
   "id": "6b7d491a-c7a3-4b94-9ab1-8c6a7a9ef7d2",
   "metadata": {},
   "source": [
    "$ \n",
    "\\text{1ro: Creo una matriz que almacene los nodos de cada elemento eliminado}\n",
    "$"
   ]
  },
  {
   "cell_type": "markdown",
   "id": "be5dfe0d-4a52-423b-9a69-de7c92af269d",
   "metadata": {},
   "source": [
    "$ \n",
    "\\text{2do: Considero que la fisura tiende a ser como una linea recta}\n",
    "$"
   ]
  },
  {
   "cell_type": "markdown",
   "id": "797521e8-098b-46f1-990d-71605f56b6e1",
   "metadata": {},
   "source": [
    "$\n",
    "\\text{3ro: Obtengo la distancia entre dos puntos, un punto es un nodo del primer elemento eliminado, y el otro punto es un nodo del último elemento eliminado}\n",
    "$"
   ]
  },
  {
   "cell_type": "markdown",
   "id": "4e833648-7676-4ff3-ab54-76029837e1d1",
   "metadata": {},
   "source": [
    "$ \n",
    "\\text{4to: Del primer elemento se toma el nodo de menor distancia en y. Del último elemento se toma el nodo con mayor distancia en y}\n",
    "$"
   ]
  },
  {
   "cell_type": "code",
   "execution_count": 12,
   "id": "24669e2c-20c0-4c1f-85f2-834eb582ba2e",
   "metadata": {
    "tags": []
   },
   "outputs": [],
   "source": [
    "MCbroken = MC\n",
    "ETAGSbroken = ETAGS\n",
    "ElementosRotos = 80\n",
    "MC_eliminados = np.zeros(3)\n",
    "tens_max = np.zeros([ElementosRotos,1])\n",
    "longfisuras = np.zeros([ElementosRotos,1])\n",
    "\n",
    "for elrot in range(ElementosRotos):\n",
    "    max_sig_element = np.where(sig_xytau[0,:] == sig_xytau[0,:].max())\n",
    "    MC_eliminados = np.vstack([MC_eliminados,MCbroken[max_sig_element]])\n",
    "    MCbroken = np.delete(MCbroken, max_sig_element, axis=0)\n",
    "    ETAGSbroken = np.delete(ETAGSbroken, max_sig_element, axis=0)\n",
    "    Ne, Nnxe = MCbroken.shape\n",
    "    E = np.zeros(Ne)\n",
    "    for e in range(Ne):\n",
    "        E[e] = Ei\n",
    "    K, Ke, D, B = mef.Kglobal_barra(MN, MCbroken, E, glxn, dimension_elementos, v,t)\n",
    "    F, U = mef.solve(K, r, s, Us, Fr)\n",
    "    sig = mef.tensiones(MCbroken, U, D, B, glxn)\n",
    "    sig_xytau = np.hstack(list(sig.values()))  # saco las tensiones del diccionario, quedan en filas para cada elemento las tensiones x, y, xy\n",
    "    U2D = U.reshape(Nn,glxn)\n",
    "    U3D = np.append(U2D,np.zeros(U2D.shape[0]).reshape([-1,1]),1)\n",
    "  \n",
    "    tens_max[elrot] = np.array([sig_xytau[0,:].max()])\n",
    "    \n",
    "MC_eliminados = np.delete(MC_eliminados,0,0)\n",
    "\n",
    "el1_nodos = MC_eliminados[0].astype(int)\n",
    "el1_coord = np.array([[MN[el1_nodos[0]]],[MN[el1_nodos[1]]],[MN[el1_nodos[2]]]])\n",
    "cd_in = el1_coord[np.where(el1_coord == el1_coord[:,0][:,1].min())[0][0]].tolist()[0]  # coord del nodo donde inicia la fisura\n",
    "\n",
    "for n in range(ElementosRotos):\n",
    "    el2_nodos = MC_eliminados[n].astype(int)\n",
    "    el2_coord = np.array([[MN[el2_nodos[0]]],[MN[el2_nodos[1]]],[MN[el2_nodos[2]]]])\n",
    "    cd_p = el2_coord[np.where(el2_coord == el2_coord[:,0][:,1].max())[0][0]].tolist()[0]  # coord del nodo en la punta de la fisura\n",
    "    long_fis = ((cd_p[0]-cd_in[0])**2+(cd_p[1]-cd_in[1])**2)**(1/2)\n",
    "    longfisuras[n] = np.array([long_fis])"
   ]
  },
  {
   "cell_type": "markdown",
   "id": "7d7d8e41-4375-40ba-88c5-3204bb776060",
   "metadata": {},
   "source": [
    "$$\n",
    "$$"
   ]
  },
  {
   "cell_type": "markdown",
   "id": "5c947cae-90c1-4d94-bcf2-78521abf7885",
   "metadata": {},
   "source": [
    "$ \\large\n",
    "\\text{Tensión en la punta de la fisura en función la longitud de la fisura}\n",
    "$"
   ]
  },
  {
   "cell_type": "markdown",
   "id": "8571231c-533f-436f-8606-c112214fd9ac",
   "metadata": {},
   "source": [
    "Cuando se elimina un elemento triangular invertido las tensiones son mayores, este elemento los llamaremos IMPAR"
   ]
  },
  {
   "cell_type": "markdown",
   "id": "6b67a7fd-aa4a-4b08-898f-513612379b1c",
   "metadata": {},
   "source": [
    "Cuando se elimina un elemento triangular NO invertido las tensiones son menores, este elemento lo llamaremos PAR"
   ]
  },
  {
   "cell_type": "code",
   "execution_count": 13,
   "id": "3a94f19c-6fad-4999-9e95-51d44b83d592",
   "metadata": {},
   "outputs": [],
   "source": [
    "# analizo la cantidad de elementos pares\n",
    "tens_max_par = np.zeros([int(ElementosRotos/2),1])\n",
    "longfisuras_par = np.zeros([int(ElementosRotos/2),1])\n",
    "for elrot in range(int(ElementosRotos/2)):\n",
    "    tens_max_par[elrot] = tens_max[elrot*2+1]\n",
    "    longfisuras_par[elrot] = longfisuras[elrot*2+1]\n",
    "tens_max_impar = np.zeros([int(ElementosRotos/2),1])\n",
    "longfisuras_impar = np.zeros([int(ElementosRotos/2),1])\n",
    "for elrot in range(int(ElementosRotos/2)):\n",
    "    tens_max_impar[elrot] = tens_max[elrot*2]\n",
    "    longfisuras_impar[elrot] =longfisuras[elrot*2]"
   ]
  },
  {
   "cell_type": "code",
   "execution_count": 20,
   "id": "41615697-f1ae-466c-90fc-133820084d91",
   "metadata": {},
   "outputs": [
    {
     "data": {
      "image/png": "[encoded data removed]",
      "text/plain": [
       "<Figure size 1080x576 with 1 Axes>"
      ]
     },
     "metadata": {
      "needs_background": "light"
     },
     "output_type": "display_data"
    }
   ],
   "source": [
    "plt.rc('figure', figsize=(15, 8))\n",
    "plt.rc('font', size=15)\n",
    "plt.plot(longfisuras_par*1000,tens_max_par,'o',label='pares')\n",
    "plt.plot(longfisuras_impar*1000,tens_max_impar,'o',label='impares')\n",
    "plt.grid()\n",
    "plt.ylabel('$\\sigma$ [Pa]')\n",
    "plt.xlabel('long. fisura [mm]')\n",
    "plt.legend()\n",
    "plt.show()"
   ]
  },
  {
   "cell_type": "code",
   "execution_count": 15,
   "id": "2c109802-2eae-4a6b-9b84-7cd08fb9b57e",
   "metadata": {},
   "outputs": [],
   "source": [
    "desps = gmsh.view.add(\"Desplazamientos\")\n",
    "Desps = gmsh.view.addModelData(desps, 0, 'Chapa_agujero_central', 'NodeData', NodeInfo[0]+1, U3D, numComponents=3)\n",
    "gmsh.option.setNumber(f'View[{desps}].VectorType',5)\n",
    "\n",
    "F2D = F.reshape(Nn,glxn)\n",
    "F3D = np.append(F2D,np.zeros(F2D.shape[0]).reshape([-1,1]),1)\n",
    "\n",
    "fuerzas = gmsh.view.add('Fuerzas')\n",
    "Fuerzas = gmsh.view.addModelData(fuerzas, 0, 'Chapa_agujero_central','NodeData',NodeInfo[0]+1, F3D, numComponents=3)\n",
    "gmsh.option.setNumber(f'View[{fuerzas}].VectorType',4)\n",
    "gmsh.option.setNumber(f'View[{fuerzas}].GlyphLocation',2)\n",
    "\n",
    "sigx = gmsh.view.add('Tensiones en x')\n",
    "sigy = gmsh.view.add('Tensiones en y')\n",
    "sigxy = gmsh.view.add('Tensiones xy')\n",
    "SIGX = gmsh.view.addModelData(sigx, 0, 'Chapa_agujero_central', 'ElementData', ETAGSbroken, sig_xytau[0,:].reshape([-1,1]), numComponents=1)  # hago reshape porque tienen que ir vectores columnas\n",
    "SIGY = gmsh.view.addModelData(sigy, 0, 'Chapa_agujero_central', 'ElementData', ETAGSbroken, sig_xytau[1,:].reshape([-1,1]), numComponents=1)\n",
    "\n",
    "gmsh.fltk.run()"
   ]
  },
  {
   "cell_type": "markdown",
   "id": "125490ff-f436-4ee3-a54f-b118bff90be7",
   "metadata": {},
   "source": [
    "<center><img src=\"FFisura_Hermosa(80).png\"></center>"
   ]
  },
  {
   "cell_type": "markdown",
   "id": "2bef994d-095a-4339-ac58-4f3a648fc645",
   "metadata": {},
   "source": [
    "<center><img src=\"FFisura_Hermosa(zoom)(80).png\"></center>"
   ]
  },
  {
   "cell_type": "code",
   "execution_count": null,
   "id": "24e777d3-834e-49ce-950d-1cc263d77462",
   "metadata": {},
   "outputs": [],
   "source": []
  }
 ],
 "metadata": {
  "kernelspec": {
   "display_name": "Python 3 (ipykernel)",
   "language": "python",
   "name": "python3"
  },
  "language_info": {
   "codemirror_mode": {
    "name": "ipython",
    "version": 3
   },
   "file_extension": ".py",
   "mimetype": "text/x-python",
   "name": "python",
   "nbconvert_exporter": "python",
   "pygments_lexer": "ipython3",
   "version": "3.9.10"
  }
 },
 "nbformat": 4,
 "nbformat_minor": 5
}
