{
 "cells": [
  {
   "cell_type": "markdown",
   "id": "fde5b7ca",
   "metadata": {
    "pycharm": {
     "name": "#%% md\n"
    }
   },
   "source": [
    "$$ \\Large \\underline\n",
    "{\\textbf{Propagación de Fisuras}}\n",
    "$$"
   ]
  },
  {
   "cell_type": "markdown",
   "id": "d2dc5c62",
   "metadata": {
    "pycharm": {
     "name": "#%% md\n"
    }
   },
   "source": [
    "Determine la deformación y los esfuerzos principales en función de la posición para una chapa con\n",
    "un agujero en el centro sujeta a tracción por sus extremos, como se muestra en la figura. Las\n",
    "dimensiones de la chapa son de $20\\ x\\ 10\\ pulgadas$ y su espesor de $1\\ pulgada$. El radio del agujero\n",
    "central es también de $1\\ pulgada$. Tome $E = 30 x 10^{6}\\\n",
    " psi$ y $n = 0.30$.\n"
   ]
  },
  {
   "cell_type": "markdown",
   "id": "c3e8b26f",
   "metadata": {
    "pycharm": {
     "name": "#%% md\n"
    }
   },
   "source": [
    "\n",
    "Analice el problema con número creciente de elementos y estudie su convergencia."
   ]
  },
  {
   "cell_type": "markdown",
   "id": "cc886b5b",
   "metadata": {
    "pycharm": {
     "name": "#%% md\n"
    }
   },
   "source": [
    "<center><img src=\"ImgProb02G03.png\"></center>"
   ]
  },
  {
   "cell_type": "code",
   "execution_count": 1,
   "id": "0b23a703",
   "metadata": {
    "pycharm": {
     "name": "#%%\n"
    }
   },
   "outputs": [],
   "source": [
    "import gmsh\n",
    "import numpy as np\n",
    "import matplotlib.pyplot as plt\n",
    "import MEF as mef"
   ]
  },
  {
   "cell_type": "code",
   "execution_count": 2,
   "id": "6d79d6d7",
   "metadata": {
    "pycharm": {
     "name": "#%%\n"
    }
   },
   "outputs": [],
   "source": [
    "lc = 2\n",
    "h = 10  # in\n",
    "b = 20  # in\n",
    "v = 0.3  # coef Poisson\n",
    "Ei = 30e6  # psi para acero \n",
    "r = 1  # in  radio del agujero\n",
    "t = 1  # in  espesor de la chapa\n",
    "T = 1000"
   ]
  },
  {
   "cell_type": "code",
   "execution_count": 3,
   "id": "cfaaa019",
   "metadata": {
    "pycharm": {
     "name": "#%%\n"
    }
   },
   "outputs": [
    {
     "name": "stdout",
     "output_type": "stream",
     "text": [
      "Info    : Increasing process stack size (8192 kB < 16 MB)\n"
     ]
    }
   ],
   "source": [
    "gmsh.initialize()"
   ]
  },
  {
   "cell_type": "code",
   "execution_count": 4,
   "id": "67b8be7b",
   "metadata": {
    "pycharm": {
     "name": "#%%\n"
    }
   },
   "outputs": [],
   "source": [
    "gmsh.model.add('Chapa_agujero_central')"
   ]
  },
  {
   "cell_type": "code",
   "execution_count": 5,
   "id": "233fd14f",
   "metadata": {
    "pycharm": {
     "name": "#%%\n"
    }
   },
   "outputs": [],
   "source": [
    "pc = gmsh.model.geo.addPoint(0,0,0,lc)\n",
    "p1 = gmsh.model.geo.addPoint(r,0,0,lc/15)\n",
    "p2 = gmsh.model.geo.addPoint(b/2,0,0,lc)\n",
    "p3 = gmsh.model.geo.addPoint(b/2,h/2,0,lc)\n",
    "p4 = gmsh.model.geo.addPoint(0,h/2,0,lc)\n",
    "p5 = gmsh.model.geo.addPoint(0,r,0,lc/15)"
   ]
  },
  {
   "cell_type": "code",
   "execution_count": 6,
   "id": "92e11601",
   "metadata": {
    "pycharm": {
     "name": "#%%\n"
    }
   },
   "outputs": [],
   "source": [
    "l1 = gmsh.model.geo.addLine(p1,p2)\n",
    "l2 = gmsh.model.geo.addLine(p2,p3)\n",
    "l3 = gmsh.model.geo.addLine(p3,p4)\n",
    "l4 = gmsh.model.geo.addLine(p4,p5)\n",
    "c1 = gmsh.model.geo.addCircleArc(p5, pc, p1)"
   ]
  },
  {
   "cell_type": "code",
   "execution_count": 7,
   "id": "f819c4df",
   "metadata": {
    "pycharm": {
     "name": "#%%\n"
    }
   },
   "outputs": [],
   "source": [
    "C1 = gmsh.model.geo.addCurveLoop([l1,l2,l3,l4,c1])"
   ]
  },
  {
   "cell_type": "code",
   "execution_count": 8,
   "id": "6f5e1c4e",
   "metadata": {
    "pycharm": {
     "name": "#%%\n"
    }
   },
   "outputs": [],
   "source": [
    "S1 = gmsh.model.geo.addPlaneSurface([C1])"
   ]
  },
  {
   "cell_type": "code",
   "execution_count": 9,
   "id": "ebfd55da",
   "metadata": {
    "pycharm": {
     "name": "#%%\n"
    }
   },
   "outputs": [],
   "source": [
    "gmsh.model.geo.synchronize()"
   ]
  },
  {
   "cell_type": "markdown",
   "id": "ba80ce7f",
   "metadata": {
    "pycharm": {
     "name": "#%% md\n"
    }
   },
   "source": [
    "La linea vertical de la izquierda no se movera en la dirección x por simetria, ya que se aplica la misma tension de ambos lados. "
   ]
  },
  {
   "cell_type": "markdown",
   "id": "7f3e0fd3",
   "metadata": {
    "pycharm": {
     "name": "#%% md\n"
    }
   },
   "source": [
    "La linea horizontal de aba no se movera en la dirección y, también por simetria. "
   ]
  },
  {
   "cell_type": "code",
   "execution_count": 10,
   "id": "33407980",
   "metadata": {
    "pycharm": {
     "name": "#%%\n"
    }
   },
   "outputs": [],
   "source": [
    "Empotrado_x = gmsh.model.addPhysicalGroup(1, [l4])\n",
    "gmsh.model.setPhysicalName(1,Empotrado_x,'Empotrado en x')\n",
    "Empotrado_y = gmsh.model.addPhysicalGroup(1, [l1])\n",
    "gmsh.model.setPhysicalName(1,Empotrado_y,'Empotrado en y')\n",
    "\n",
    "Traccionado = gmsh.model.addPhysicalGroup(1,[l2])\n",
    "gmsh.model.setPhysicalName(1,Traccionado,'Traccionado')\n",
    "\n",
    "Superficie = gmsh.model.addPhysicalGroup(2,[S1])\n",
    "gmsh.model.setPhysicalName(2,Superficie,'Superficie')"
   ]
  },
  {
   "cell_type": "code",
   "execution_count": 11,
   "id": "3ff3c933",
   "metadata": {
    "pycharm": {
     "name": "#%%\n"
    }
   },
   "outputs": [
    {
     "name": "stdout",
     "output_type": "stream",
     "text": [
      "Info    : Meshing 1D...\n",
      "Info    : [  0%] Meshing curve 1 (Line)\n",
      "Info    : [ 20%] Meshing curve 2 (Line)\n",
      "Info    : [ 40%] Meshing curve 3 (Line)\n",
      "Info    : [ 60%] Meshing curve 4 (Line)\n",
      "Info    : [ 80%] Meshing curve 5 (Circle)\n",
      "Info    : Done meshing 1D (Wall 0.00277399s, CPU 0.003208s)\n",
      "Info    : Meshing 2D...\n",
      "Info    : Meshing surface 1 (Plane, Frontal-Delaunay)\n",
      "Info    : Done meshing 2D (Wall 0.00217164s, CPU 0.001719s)\n",
      "Info    : 125 nodes 252 elements\n"
     ]
    }
   ],
   "source": [
    "gmsh.model.mesh.generate(2)\n",
    "gmsh.model.geo.synchronize()\n",
    "# gmsh.fltk.run() estoy en remoto"
   ]
  },
  {
   "cell_type": "code",
   "execution_count": 12,
   "id": "73ddf87c",
   "metadata": {
    "pycharm": {
     "name": "#%%\n"
    }
   },
   "outputs": [],
   "source": [
    "NodeInfo = gmsh.model.mesh.get_nodes()\n",
    "Nn = NodeInfo[0].shape[0]\n",
    "ETAGS, ELEMENTS = gmsh.model.mesh.get_elements_by_type(2)   # ETAGS = numeracion de cada elemento\n",
    "                                                            # ELEMENTS = ravel de los nodos que posee cada elemento\n",
    "MN = NodeInfo[1].reshape(Nn,3)  # matriz coordenadas de los nodos\n",
    "MN = np.append(MN[1:,:],[np.zeros(3)],0)  # llevo la primer fila al final porque nombra al nodo del centro como el último taggeado\n",
    "MC = ELEMENTS.reshape(ETAGS.shape[0],3)  # matriz conectividad"
   ]
  },
  {
   "cell_type": "code",
   "execution_count": 13,
   "id": "d40798d3",
   "metadata": {
    "pycharm": {
     "name": "#%%\n"
    }
   },
   "outputs": [],
   "source": [
    "Ne, Nnxe = MC.shape"
   ]
  },
  {
   "cell_type": "code",
   "execution_count": 14,
   "id": "adedcbf6",
   "metadata": {
    "pycharm": {
     "name": "#%%\n"
    }
   },
   "outputs": [],
   "source": [
    "E = np.zeros(Ne)\n",
    "for e in range(Ne):\n",
    "    E[e] = Ei"
   ]
  },
  {
   "cell_type": "code",
   "execution_count": 15,
   "id": "1884b554",
   "metadata": {
    "pycharm": {
     "name": "#%%\n"
    }
   },
   "outputs": [],
   "source": [
    "MC = MC - np.ones([Ne,Nnxe])  # resto 1 para acomodar a lenguaje python"
   ]
  },
  {
   "cell_type": "code",
   "execution_count": 16,
   "id": "825889a9",
   "metadata": {
    "pycharm": {
     "name": "#%%\n"
    }
   },
   "outputs": [
    {
     "name": "stdout",
     "output_type": "stream",
     "text": [
      "Info    : Writing 'chapa_agujero.msh'...\n",
      "Info    : Done writing 'chapa_agujero.msh'\n"
     ]
    }
   ],
   "source": [
    "gmsh.option.setNumber(\"Mesh.MshFileVersion\",2.2)\n",
    "gmsh.write('chapa_agujero.msh')"
   ]
  },
  {
   "cell_type": "code",
   "execution_count": 17,
   "id": "8701b064",
   "metadata": {
    "pycharm": {
     "name": "#%%\n"
    }
   },
   "outputs": [],
   "source": [
    "glxn = 2\n",
    "dimension_elementos = 2"
   ]
  },
  {
   "cell_type": "code",
   "execution_count": 18,
   "id": "7101f4a7",
   "metadata": {
    "pycharm": {
     "name": "#%%\n"
    }
   },
   "outputs": [],
   "source": [
    "K, Ke, D, B = mef.Kglobal_barra(MN, MC, E, glxn, dimension_elementos, v,t) "
   ]
  },
  {
   "cell_type": "code",
   "execution_count": 19,
   "id": "47dbc156",
   "metadata": {
    "pycharm": {
     "name": "#%%\n"
    }
   },
   "outputs": [],
   "source": [
    "nodos_empot_x, xyz_empot_x = gmsh.model.mesh.getNodesForPhysicalGroup(1, Empotrado_x)\n",
    "nodos_empot_y, xyz_empot_y = gmsh.model.mesh.getNodesForPhysicalGroup(1, Empotrado_y)"
   ]
  },
  {
   "cell_type": "markdown",
   "id": "22e2d6df",
   "metadata": {
    "pycharm": {
     "name": "#%% md\n"
    }
   },
   "source": [
    "nodos_empot_x = el número del nodo que se encuentra empotrado en x ; xyz_empot_x = ravel de las coordenadas de cada nodo empotrado en x"
   ]
  },
  {
   "cell_type": "markdown",
   "id": "82f42a77",
   "metadata": {
    "pycharm": {
     "name": "#%% md\n"
    }
   },
   "source": [
    "nodos_empot_y = el número del nodo que se encuentra empotrado en y ; xyz_empot_y = ravel de las coordenadas de cada nodo empotrado en y"
   ]
  },
  {
   "cell_type": "code",
   "execution_count": 20,
   "id": "55466956",
   "metadata": {
    "pycharm": {
     "name": "#%%\n"
    }
   },
   "outputs": [],
   "source": [
    "s = []  # el vector s indica la direccion de que nodo sabemos cuanto se desplaza.\n",
    "        # en este caso se asignan los valores de las direcciones de cada nodo empotrado\n",
    "for n in nodos_empot_x-1:\n",
    "    s.append(glxn*n)\n",
    "for n in nodos_empot_y-1:\n",
    "    s.append(glxn*n+1)\n",
    "\n",
    "s.append((NodeInfo[0][0]-1)*glxn)\n",
    "s.append((NodeInfo[0][0]-1)*glxn+1)\n",
    "\n",
    "s = np.array(s).astype(int)\n",
    "\n",
    "Us = np.zeros([s.shape[0]]).reshape([-1,1])"
   ]
  },
  {
   "cell_type": "code",
   "execution_count": 21,
   "id": "d1a80a91",
   "metadata": {
    "pycharm": {
     "name": "#%%\n"
    }
   },
   "outputs": [],
   "source": [
    "r = mef.vector_complemento(s, MN, glxn).astype(int)"
   ]
  },
  {
   "cell_type": "code",
   "execution_count": 22,
   "id": "6028eeb4",
   "metadata": {
    "pycharm": {
     "name": "#%%\n"
    }
   },
   "outputs": [],
   "source": [
    "entityTraccionada = gmsh.model.getEntitiesForPhysicalGroup(1, Traccionado)\n",
    "Tgroup, Ttraccionada, Ltraccionada = gmsh.model.mesh.getElements(1, entityTraccionada[0])\n",
    "Nlineastraccionadas = len(Ttraccionada[0])\n",
    "MCtraccionadas = Ltraccionada[0].reshape(Nlineastraccionadas,2)-1"
   ]
  },
  {
   "cell_type": "code",
   "execution_count": 23,
   "id": "b2d01a14",
   "metadata": {
    "pycharm": {
     "name": "#%%\n"
    }
   },
   "outputs": [],
   "source": [
    "Fr = np.zeros_like(r)  # Vector fuerzas en los nodos que empotrados\n",
    "for e in range(Nlineastraccionadas):\n",
    "    nodo1 = MCtraccionadas[e,0].astype(int)\n",
    "    nodo2 = MCtraccionadas[e,1].astype(int)\n",
    "    Ltraccionado = abs(MN[nodo2,1]-MN[nodo1,1])  # Longitud de la linea traccionada [e] que se esta analizando\n",
    "    Fr[np.where(r == nodo1*2)[0][0]] += T*Ltraccionado*t/2  # Se distribuye la tensión aplicada según la longitud del elemento\n",
    "    Fr[np.where(r == nodo2*2)[0][0]] += T*Ltraccionado*t/2\n",
    "Fr = Fr.reshape([-1,1])"
   ]
  },
  {
   "cell_type": "code",
   "execution_count": 24,
   "id": "c45a8034",
   "metadata": {
    "pycharm": {
     "name": "#%%\n"
    }
   },
   "outputs": [],
   "source": [
    "F, U = mef.solve(K, r, s, Us, Fr)"
   ]
  },
  {
   "cell_type": "code",
   "execution_count": 25,
   "id": "4d14e15a",
   "metadata": {
    "pycharm": {
     "name": "#%%\n"
    }
   },
   "outputs": [],
   "source": [
    "sig = {}\n",
    "d = {}\n",
    "for e in range(Ne):\n",
    "    nodo = MC[e,:].astype(int)  # nodos del elemento [e] analizado en cada ciclo\n",
    "    d[e] = np.array([U[nodo[0]*glxn],U[nodo[0]*glxn+1],  # d = obtiene la tensión en cada elemento en función de los despl de cada elemento\n",
    "                     U[nodo[1]*glxn],U[nodo[1]*glxn+1],\n",
    "                     U[nodo[2]*glxn],U[nodo[2]*glxn+1]]).reshape([-1,1])\n",
    "    sig[e] = D[e].dot(B[e].dot(d[e]))"
   ]
  },
  {
   "cell_type": "code",
   "execution_count": 26,
   "id": "2aafd283",
   "metadata": {
    "pycharm": {
     "name": "#%%\n"
    }
   },
   "outputs": [],
   "source": [
    "U2D = U.reshape(Nn,glxn)\n",
    "U3D = np.append(U2D,np.zeros(U2D.shape[0]).reshape([-1,1]),1)"
   ]
  },
  {
   "cell_type": "code",
   "execution_count": 27,
   "id": "f093e75e",
   "metadata": {
    "pycharm": {
     "name": "#%%\n"
    }
   },
   "outputs": [],
   "source": [
    "MNdef = MN + U3D*1e4  # se exagera la deformación "
   ]
  },
  {
   "cell_type": "code",
   "execution_count": 28,
   "id": "127874eb",
   "metadata": {
    "pycharm": {
     "name": "#%%\n"
    }
   },
   "outputs": [
    {
     "data": {
      "text/plain": [
       "Text(0.5, 0, 'desplazamiento en x')"
      ]
     },
     "execution_count": 28,
     "metadata": {},
     "output_type": "execute_result"
    },
    {
     "data": {
      "image/png": "[encoded data removed]",
      "text/plain": [
       "<Figure size 720x288 with 1 Axes>"
      ]
     },
     "metadata": {
      "needs_background": "light"
     },
     "output_type": "display_data"
    }
   ],
   "source": [
    "fig, ax = plt.subplots(figsize=(10,4))\n",
    "plt.triplot(MN[:,0], MN[:,1], MC, label='orig')  # triplot = grafica triangulitos\n",
    "plt.triplot(MNdef[:,0], MNdef[:,1], MC, label='def')\n",
    "plt.legend()\n",
    "plt.ylabel('desplazamiento en y')\n",
    "plt.xlabel('desplazamiento en x')"
   ]
  },
  {
   "cell_type": "code",
   "execution_count": 29,
   "id": "c2773e19",
   "metadata": {
    "pycharm": {
     "name": "#%%\n"
    }
   },
   "outputs": [],
   "source": [
    "desps = gmsh.view.add(\"Desplazamientos\")\n",
    "Desps = gmsh.view.addModelData(desps, 0, 'Chapa_agujero_central', 'NodeData', NodeInfo[0]+1, U3D, numComponents=3)\n",
    "gmsh.option.setNumber(f'View[{desps}].VectorType',5)\n",
    "\n",
    "F2D = F.reshape(Nn,glxn)\n",
    "F3D = np.append(F2D,np.zeros(F2D.shape[0]).reshape([-1,1]),1)\n",
    "\n",
    "fuerzas = gmsh.view.add('Fuerzas')\n",
    "Fuerzas = gmsh.view.addModelData(fuerzas, 0, 'Chapa_agujero_central','NodeData',NodeInfo[0]+1, F3D, numComponents=3)\n",
    "gmsh.option.setNumber(f'View[{fuerzas}].VectorType',4)\n",
    "gmsh.option.setNumber(f'View[{fuerzas}].GlyphLocation',2)\n",
    "\n",
    "sig_xytau = np.hstack(list(sig.values()))  # saco las tensiones del diccionario, quedan en filas para cada elemento las tensiones x, y, xy\n",
    "\n",
    "sigx = gmsh.view.add('Tensiones en x')\n",
    "sigy = gmsh.view.add('Tensiones en y')\n",
    "sigxy = gmsh.view.add('Tensiones xy')\n",
    "SIGX = gmsh.view.addModelData(sigx, 0, 'Chapa_agujero_central', 'ElementData', ETAGS, sig_xytau[0,:].reshape([-1,1]), numComponents=1) # hago reshape porque tienen que ir vectores columnas\n",
    "SIGY = gmsh.view.addModelData(sigy, 0, 'Chapa_agujero_central', 'ElementData', ETAGS, sig_xytau[1,:].reshape([-1,1]), numComponents=1)\n",
    "\n",
    "# gmsh.fltk.run() estoy en remoto"
   ]
  },
  {
   "cell_type": "markdown",
   "id": "fc08ccd2",
   "metadata": {
    "pycharm": {
     "name": "#%% md\n"
    }
   },
   "source": [
    "$$\n",
    "$$"
   ]
  },
  {
   "cell_type": "markdown",
   "id": "edf5b47e",
   "metadata": {
    "pycharm": {
     "name": "#%% md\n"
    }
   },
   "source": [
    "$$ \\Large\n",
    "\\textbf{Se muestran los resultados obtenidos:}\n",
    "$$"
   ]
  },
  {
   "cell_type": "markdown",
   "id": "1b4eeba2",
   "metadata": {
    "pycharm": {
     "name": "#%% md\n"
    }
   },
   "source": [
    "<center><img src=\"ImgProb02_desplazamientos.png\"></center>"
   ]
  },
  {
   "cell_type": "markdown",
   "id": "7eb28d8c",
   "metadata": {
    "pycharm": {
     "name": "#%% md\n"
    }
   },
   "source": [
    "<center><img src=\"ImgProb02_tensionesenx.png\"></center>"
   ]
  },
  {
   "cell_type": "markdown",
   "id": "2b835f4b",
   "metadata": {
    "pycharm": {
     "name": "#%% md\n"
    }
   },
   "source": [
    "<center><img src=\"ImgProb02_tensioneseny.png\"></center>"
   ]
  },
  {
   "cell_type": "markdown",
   "id": "fd254cec",
   "metadata": {
    "pycharm": {
     "name": "#%% md\n"
    }
   },
   "source": [
    "Se observa que la mayor concentración de tensiones ocurre en la parte superior del agujero y por simetria también ocurrirá en la parte inferior."
   ]
  },
  {
   "cell_type": "markdown",
   "id": "c5535b7f",
   "metadata": {
    "pycharm": {
     "name": "#%% md\n"
    }
   },
   "source": [
    "Primero debo ubicar en que elementos hay mayor concentración de tensiones. Las tensiones en la dirección x son 1 orden de magnitud alcanzan máximos del doble de magnitud en comparacion a las tensiones en y. Por eso, analizaré los elementos con mayor concentración de tensiones en x."
   ]
  },
  {
   "cell_type": "markdown",
   "id": "099d5ced",
   "metadata": {
    "pycharm": {
     "name": "#%% md\n"
    }
   },
   "source": [
    "<center><img src=\"ETAGS_Imagen.png\"></center>"
   ]
  },
  {
   "cell_type": "markdown",
   "id": "acfc34bf",
   "metadata": {
    "pycharm": {
     "name": "#%% md\n"
    }
   },
   "source": [
    "<center><img src=\"TensionesPorElementoColores.png\"></center>"
   ]
  },
  {
   "cell_type": "markdown",
   "id": "731aa5b2",
   "metadata": {
    "pycharm": {
     "name": "#%% md\n"
    }
   },
   "source": [
    "$$\n",
    "$$"
   ]
  },
  {
   "cell_type": "markdown",
   "id": "ef4ae51b",
   "metadata": {
    "pycharm": {
     "name": "#%% md\n"
    }
   },
   "source": [
    "$ \\Large \\underline\n",
    "{\\text{Estudio de propagación de fisuras}}\n",
    "$"
   ]
  },
  {
   "cell_type": "markdown",
   "id": "580c47ec",
   "metadata": {
    "pycharm": {
     "name": "#%% md\n"
    }
   },
   "source": [
    "Se obtiene facilmente el TAG del elemento más tensionados en la dirección x. Se ve como coincide con las imagenes. "
   ]
  },
  {
   "cell_type": "markdown",
   "id": "f1f51f4e",
   "metadata": {
    "pycharm": {
     "name": "#%% md\n"
    }
   },
   "source": [
    "El inicio de la fisura comienza con un if, que determina si hay o no un elemento que alcance la tension a la rotura del material. "
   ]
  },
  {
   "cell_type": "markdown",
   "id": "50e08721",
   "metadata": {
    "pycharm": {
     "name": "#%% md\n"
    }
   },
   "source": [
    "Lo que pense es: hacer un programa que detecte primero cual es el elemento con máxima tension aplicada. Luego tambien seleccionar algunos elementos alrededor de ese elemento ya que también tendrán una alta tensión aplicada y hay una probabilidad de que la fisura comience por alguno de ellos. Hacer un pequeño programa de aleatoriedad que seleccione uno de estos elementos y luego le de inicio a la fisura. Encontre un comando que se llama plugin(crack) de gmsh pero no pude aprender a usarlo, no lo comprendo, supuestamente es para iniciar agregar una fisura en el modelo. "
   ]
  },
  {
   "cell_type": "markdown",
   "id": "30d78b44",
   "metadata": {
    "pycharm": {
     "name": "#%% md\n"
    }
   },
   "source": [
    "Una vez iniciada la fisura usar el mismo programa que selecciona un elemento para propagar la fisura pero con los que rodean la punta de la fisura"
   ]
  },
  {
   "cell_type": "markdown",
   "id": "b4ecf7db",
   "metadata": {
    "pycharm": {
     "name": "#%% md\n"
    }
   },
   "source": [
    "Obviamente la fisura debería ir con mayor probabilidad hacia los elementos con mayor tensión para que la dirección en la que se propague sea coherente "
   ]
  },
  {
   "cell_type": "markdown",
   "id": "ff6e43f0",
   "metadata": {
    "pycharm": {
     "name": "#%% md\n"
    }
   },
   "source": [
    "Lo que no me agrada es que de esta manera los puede llegar a ser muy impresisa la propagación de la fisura. Sería puramente para ver como queda la fisura en un dibujo pero creo que estaría muy lejos de la realidad. "
   ]
  },
  {
   "cell_type": "markdown",
   "id": "372dc2f9",
   "metadata": {
    "pycharm": {
     "name": "#%% md\n"
    }
   },
   "source": [
    "No pude encontrar mucha información. Encontre que se utiliza mucho el método de elementos finitos 'extendido' en abaqus para el estudio de propagación de fisuras pero supera mi conocimiento y no creo llegar en 1 semana a hacerlo. "
   ]
  },
  {
   "cell_type": "markdown",
   "id": "3d2833df",
   "metadata": {
    "pycharm": {
     "name": "#%% md\n"
    }
   },
   "source": [
    "Máxima tensión en x medida:"
   ]
  },
  {
   "cell_type": "markdown",
   "id": "d3bb00b4",
   "metadata": {},
   "source": [
    "<div style='background:#999900'>Me parece que el problema de las roturas aleatorias es un poco más complicado.\n",
    "    \n",
    "    <ol>\n",
    "        <li>    Acordate qe tiene que ver con las impurezas, los bordes de grano y el endurecimiento local, todo lo cual sobrepasa el scope de lo que se puede hacer en 15 días.\n",
    "            <li> siempre hay una fisura preexistente. en el paper que mandaste hay fisuras preexistentes, y le dan un tratamiento matemático interesante, pero me da la impresión de que preestablecen el camino de la fisura \n",
    "                \n",
    "</div>"
   ]
  },
  {
   "cell_type": "markdown",
   "id": "69595382",
   "metadata": {},
   "source": [
    "<div style='background:#999900'>Lo que yo propuse en la charla rápida que tuvimos en clase es algo así.\n",
    "    \n",
    "<ol>\n",
    "    <li> variar la tensión remota (incremento)\n",
    "        \n",
    "    <li> medir el criterio de propagacion de fisura que no es sobre la tensión de corte o la tensión máxima sino sobre el , \n",
    "        <a url=\"https://en.wikipedia.org/wiki/Stress_intensity_factor#G%E2%80%93criterion\">factor de intensidad de tensiones</a>. \n",
    "        \n",
    "    <li> cuando encontrás el elemento que sobrepasa el criterio lo sacás del mallado, simulando una rotura\n",
    "     \n",
    "    <li> loop\n",
    "<ol> \n",
    "    \n",
    "</div>"
   ]
  },
  {
   "cell_type": "markdown",
   "id": "f08ee789",
   "metadata": {
    "pycharm": {
     "name": "#%%\n"
    }
   },
   "source": [
    "```\n",
    "sig_xytau[0,:].max()\n",
    "max_sig_element = np.where(sig_xytau[0,:] == sig_xytau[0,:].max())\n",
    "Nro del elemento con mayor tensión aplicada:\n",
    "ETAGS[max_sig_element]\n",
    "max_sig_element\n",
    "```"
   ]
  },
  {
   "cell_type": "code",
   "execution_count": 74,
   "id": "e251a6d3",
   "metadata": {},
   "outputs": [],
   "source": [
    "Gmax  = E"
   ]
  },
  {
   "cell_type": "code",
   "execution_count": 77,
   "id": "e5ed31b4",
   "metadata": {},
   "outputs": [],
   "source": [
    "R =1 "
   ]
  },
  {
   "cell_type": "code",
   "execution_count": null,
   "id": "14bf9187",
   "metadata": {},
   "outputs": [],
   "source": [
    "KI = "
   ]
  },
  {
   "cell_type": "markdown",
   "id": "adcf0c61",
   "metadata": {},
   "source": [
    "<div style='background:#999900'> aver yo empezaría por romper el nodo con la tensión más alta solamente. si sale eso, podes ver de agregar dificultades. </div>"
   ]
  },
  {
   "cell_type": "code",
   "execution_count": 38,
   "id": "d6db103b",
   "metadata": {},
   "outputs": [],
   "source": [
    "MCbroken1 = np.delete(MC, max_sig_element, axis=0)\n",
    "ETAGSbroken1 = np.delete(ETAGS, max_sig_element)"
   ]
  },
  {
   "cell_type": "code",
   "execution_count": 71,
   "id": "19ce44a3",
   "metadata": {},
   "outputs": [
    {
     "data": {
      "text/plain": [
       "(-0.2, 0.3305261925253096)"
      ]
     },
     "execution_count": 71,
     "metadata": {},
     "output_type": "execute_result"
    },
    {
     "data": {
      "image/png": "[encoded data removed]",
      "text/plain": [
       "<Figure size 432x288 with 1 Axes>"
      ]
     },
     "metadata": {
      "needs_background": "light"
     },
     "output_type": "display_data"
    }
   ],
   "source": [
    "plt.triplot(MN[:,0], MN[:,1], MCbroken1)\n",
    "coords=MN[MC[max_sig_element].ravel().astype(int),:]\n",
    "maxes = coords.max(axis=0)\n",
    "mins = coords.min(axis=0)\n",
    "plt.ylim(mins[1]-lc/10, maxes[1]+lc/10)\n",
    "plt.xlim(mins[0]-lc/10, maxes[0]+lc/10)"
   ]
  },
  {
   "cell_type": "markdown",
   "id": "510a84fa",
   "metadata": {},
   "source": [
    "<div style='background:#999900'>y ahora calculás todo de nuevo con la malla nueva. Basicamente haces un loop con todo hasta que te quedas con fuerza cero! y vas escribiendo archivos nuevos. El problema que tiene esto es que es dificil visualizar , pero se me ocurre:\n",
    "\n",
    "<ol>\n",
    "    <li> definir una función que vale 0 para todos los elementos\n",
    "    <li> cuando hay un elemento que sobrepasa vm, le asignas 1\n",
    "    <li> guardar los valores escalares de esa función para cada paso de incremento\n",
    "    \n",
    "</ol>\n",
    "</div>"
   ]
  },
  {
   "cell_type": "markdown",
   "id": "d0bec65d",
   "metadata": {},
   "source": [
    "<div style='background:#999900'>y ahora calculás todo de nuevo con la malla nueva. Basicamente haces un loop con todo hasta que te quedas con fuerza cero! y vas escribiendo archivos nuevos. El problema que tiene esto es que es dificil visualizar , pero se me ocurre:\n",
    "\n",
    "<ol>\n",
    "    <li> definir una función que vale 0 para todos los elementos\n",
    "    <li> cuando hay un elemento que sobrepasa vm, le asignas 1\n",
    "    <li> guardar los valores escalares de esa función para cada paso de incremento\n",
    "    \n",
    "</ol>\n",
    "    \n",
    "Es cierto que puede sonar medio naive, pero me parece que para no estar peliando en la implementación de esos modelos de fisura mas complejos está muy bien. Si te sale eso, entonces podés empezar a pensar en cosas más complejas, o incluso modelar otro tipo de  fenómeno o dinámica. \n",
    "    \n",
    "Un par de cosas mas: yo aplicaría una malla más fina por donde sabés que va a pasar la fisura, por más que después pueda pasar que por cuestiones numéricas la fisura se te valla para otro lado. \n",
    "</div>"
   ]
  },
  {
   "cell_type": "code",
   "execution_count": null,
   "id": "5af39c1b",
   "metadata": {},
   "outputs": [],
   "source": []
  }
 ],
 "metadata": {
  "kernelspec": {
   "display_name": "Python 3 (ipykernel)",
   "language": "python",
   "name": "python3"
  },
  "language_info": {
   "codemirror_mode": {
    "name": "ipython",
    "version": 3
   },
   "file_extension": ".py",
   "mimetype": "text/x-python",
   "name": "python",
   "nbconvert_exporter": "python",
   "pygments_lexer": "ipython3",
   "version": "3.9.12"
  }
 },
 "nbformat": 4,
 "nbformat_minor": 5
}
