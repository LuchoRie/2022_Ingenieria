{
 "cells": [
  {
   "cell_type": "markdown",
   "id": "2c35859e-8eb2-451d-8408-03e7be06e675",
   "metadata": {},
   "source": [
    "$\\LARGE Tamaño\\ de\\ letra$"
   ]
  },
  {
   "cell_type": "markdown",
   "id": "7973355a-a2ad-44a9-a7ee-a05593122402",
   "metadata": {},
   "source": [
    "$\\normalsize Tamaño\\ de\\ letra\\ de\\ menor\\ a\\ mayor\\$"
   ]
  },
  {
   "cell_type": "markdown",
   "id": "7f9ca648-0741-4774-a7f3-1859426c2587",
   "metadata": {},
   "source": [
    "\\tiny\n",
    "\\scriptsize\n",
    "\\footnotesize\n",
    "\\small\n",
    "\\normalsize\n",
    "\\large\n",
    "\\Large\n",
    "\\LARGE\n",
    "\\huge\n",
    "\\Huge"
   ]
  },
  {
   "cell_type": "code",
   "execution_count": null,
   "id": "764f8da1-e1a4-4282-b45d-3bfb17ce3c66",
   "metadata": {},
   "outputs": [],
   "source": []
  }
 ],
 "metadata": {
  "kernelspec": {
   "display_name": "Python 3 (ipykernel)",
   "language": "python",
   "name": "python3"
  },
  "language_info": {
   "codemirror_mode": {
    "name": "ipython",
    "version": 3
   },
   "file_extension": ".py",
   "mimetype": "text/x-python",
   "name": "python",
   "nbconvert_exporter": "python",
   "pygments_lexer": "ipython3",
   "version": "3.9.10"
  }
 },
 "nbformat": 4,
 "nbformat_minor": 5
}
